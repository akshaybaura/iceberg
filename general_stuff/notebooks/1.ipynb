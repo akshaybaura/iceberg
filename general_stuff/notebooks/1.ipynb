{
 "cells": [
  {
   "cell_type": "code",
   "execution_count": 18,
   "id": "7aa12272-2342-49f0-a21e-cda959fb6313",
   "metadata": {},
   "outputs": [
    {
     "name": "stdout",
     "output_type": "stream",
     "text": [
      "Spark Running\n"
     ]
    }
   ],
   "source": [
    "import pyspark\n",
    "import pyspark\n",
    "from pyspark.sql import SparkSession\n",
    "import os\n",
    "\n",
    "## DEFINE SENSITIVE VARIABLES\n",
    "NESSIE_URI = \"http://nessie:19120/api/v1\"\n",
    "MINIO_ACCESS_KEY = \"admin\"\n",
    "MINIO_SECRET_KEY = \"password\"\n",
    "\n",
    "\n",
    "\n",
    "conf = (\n",
    "    pyspark.SparkConf()\n",
    "        .setAppName('app_name')\n",
    "  \t\t#packages\n",
    "        .set('spark.jars.packages', 'org.apache.iceberg:iceberg-spark-runtime-3.3_2.12:1.3.1,org.projectnessie.nessie-integrations:nessie-spark-extensions-3.3_2.12:0.67.0,software.amazon.awssdk:bundle:2.17.178,software.amazon.awssdk:url-connection-client:2.17.178')\n",
    "  \t\t#SQL Extensions\n",
    "        .set('spark.sql.extensions', 'org.apache.iceberg.spark.extensions.IcebergSparkSessionExtensions,org.projectnessie.spark.extensions.NessieSparkSessionExtensions')\n",
    "  \t\t#Configuring Catalog\n",
    "        .set('spark.sql.catalog.nessie', 'org.apache.iceberg.spark.SparkCatalog')\n",
    "        .set('spark.sql.catalog.nessie.uri', NESSIE_URI)\n",
    "        .set('spark.sql.catalog.nessie.ref', 'main')\n",
    "        .set('spark.sql.catalog.nessie.authentication.type', 'NONE')\n",
    "        .set('spark.sql.catalog.nessie.catalog-impl', 'org.apache.iceberg.nessie.NessieCatalog')\n",
    "        .set('spark.sql.catalog.nessie.warehouse', 's3a://warehouse')\n",
    "        .set('spark.sql.catalog.nessie.s3.endpoint', 'http://minio:9000')\n",
    "        .set('spark.sql.catalog.nessie.io-impl', 'org.apache.iceberg.aws.s3.S3FileIO')\n",
    "  \t\t#MINIO CREDENTIALS\n",
    "        .set('spark.hadoop.fs.s3a.access.key', MINIO_ACCESS_KEY)\n",
    "        .set('spark.hadoop.fs.s3a.secret.key', MINIO_SECRET_KEY)\n",
    ")\n",
    "\n",
    "## Start Spark Session\n",
    "spark = SparkSession.builder.config(conf=conf).getOrCreate()\n",
    "print(\"Spark Running\")"
   ]
  },
  {
   "cell_type": "code",
   "execution_count": 19,
   "id": "839f6c4e-8b24-46d8-84a8-b831556ebece",
   "metadata": {
    "scrolled": true
   },
   "outputs": [
    {
     "name": "stdout",
     "output_type": "stream",
     "text": [
      "++\n",
      "||\n",
      "++\n",
      "++\n",
      "\n"
     ]
    }
   ],
   "source": [
    "spark.sql(\"CREATE TABLE IF NOT EXISTS nessie.test1(name string) USING iceberg\").show()"
   ]
  },
  {
   "cell_type": "code",
   "execution_count": 20,
   "id": "3cbbeeae-58c8-409e-a41d-80f9c9d7d888",
   "metadata": {},
   "outputs": [
    {
     "data": {
      "text/plain": [
       "DataFrame[]"
      ]
     },
     "execution_count": 20,
     "metadata": {},
     "output_type": "execute_result"
    }
   ],
   "source": [
    "spark.sql(\"insert into nessie.test1 values('test')\")"
   ]
  },
  {
   "cell_type": "code",
   "execution_count": 36,
   "id": "5ade2cd2-5180-4cd1-b3ac-9005d12af9ea",
   "metadata": {
    "scrolled": true
   },
   "outputs": [
    {
     "name": "stdout",
     "output_type": "stream",
     "text": [
      "+----------+-------------------+\n",
      "|      name|                 ts|\n",
      "+----------+-------------------+\n",
      "|      test|2025-01-01 00:00:00|\n",
      "|iceberg v2|2025-02-02 00:00:00|\n",
      "+----------+-------------------+\n",
      "\n"
     ]
    }
   ],
   "source": [
    "spark.sql(\"select * from nessie.test1\").show()"
   ]
  },
  {
   "cell_type": "code",
   "execution_count": 29,
   "id": "5f12b320-944a-4b8b-babf-83acb008699e",
   "metadata": {},
   "outputs": [
    {
     "data": {
      "text/plain": [
       "DataFrame[]"
      ]
     },
     "execution_count": 29,
     "metadata": {},
     "output_type": "execute_result"
    }
   ],
   "source": [
    "spark.sql(\"INSERT INTO nessie.test1 VALUES ('iceberg v2')\")"
   ]
  },
  {
   "cell_type": "code",
   "execution_count": 35,
   "id": "25a66b1a-c49b-4117-8cfb-da93e470c269",
   "metadata": {},
   "outputs": [
    {
     "name": "stdout",
     "output_type": "stream",
     "text": [
      "+--------------------+-------------------+-------------------+---------+--------------------+--------------------+\n",
      "|        committed_at|        snapshot_id|          parent_id|operation|       manifest_list|             summary|\n",
      "+--------------------+-------------------+-------------------+---------+--------------------+--------------------+\n",
      "|2025-04-15 14:57:...|4482891011596568820|               null|   append|s3a://warehouse/t...|{spark.app.id -> ...|\n",
      "|2025-04-15 20:30:...|4771168873951498322|4482891011596568820|   append|s3a://warehouse/t...|{spark.app.id -> ...|\n",
      "|2025-04-16 09:37:...| 359364544268001682|4482891011596568820|   append|s3a://warehouse/t...|{spark.app.id -> ...|\n",
      "|2025-04-16 09:37:...|3491015018832812929| 359364544268001682|   append|s3a://warehouse/t...|{spark.app.id -> ...|\n",
      "|2025-04-16 09:38:...|2090234595394550542|3491015018832812929|   append|s3a://warehouse/t...|{spark.app.id -> ...|\n",
      "|2025-04-16 09:38:...|6687891876915979396|4482891011596568820|   append|s3a://warehouse/t...|{spark.app.id -> ...|\n",
      "|2025-04-16 10:09:...|9051640101967135679|6687891876915979396|   append|s3a://warehouse/t...|{spark.app.id -> ...|\n",
      "|2025-04-16 10:10:...|1949190092387453289|9051640101967135679|   delete|s3a://warehouse/t...|{spark.app.id -> ...|\n",
      "|2025-04-16 10:20:...|1392518232419264770|1949190092387453289|   delete|s3a://warehouse/t...|{spark.app.id -> ...|\n",
      "|2025-04-16 10:21:...|4894395931095480477|1392518232419264770|   append|s3a://warehouse/t...|{spark.app.id -> ...|\n",
      "|2025-04-17 19:18:...|8392297303664826628|4894395931095480477|overwrite|s3a://warehouse/t...|{spark.app.id -> ...|\n",
      "|2025-04-17 19:19:...|3352755501871225223|8392297303664826628|overwrite|s3a://warehouse/t...|{spark.app.id -> ...|\n",
      "+--------------------+-------------------+-------------------+---------+--------------------+--------------------+\n",
      "\n"
     ]
    }
   ],
   "source": [
    "spark.sql(\"SELECT * FROM nessie.test1.snapshots\").show(truncate=True)\n"
   ]
  },
  {
   "cell_type": "code",
   "execution_count": 24,
   "id": "0416f3bf-2be5-4759-946d-543a9ab73d34",
   "metadata": {},
   "outputs": [
    {
     "name": "stdout",
     "output_type": "stream",
     "text": [
      "+----+\n",
      "|name|\n",
      "+----+\n",
      "|test|\n",
      "+----+\n",
      "\n"
     ]
    }
   ],
   "source": [
    "## time travel to old snapshot\n",
    "\n",
    "df = spark.read.option(\"snapshot-id\", 4482891011596568820) \\\n",
    "    .format(\"iceberg\") \\\n",
    "    .load(\"nessie.test1\")\n",
    "\n",
    "df.show()"
   ]
  },
  {
   "cell_type": "code",
   "execution_count": 27,
   "id": "829494ab-1627-4fef-9b29-74d1ff72bc2b",
   "metadata": {},
   "outputs": [
    {
     "name": "stdout",
     "output_type": "stream",
     "text": [
      "25/04/16 09:38:14 WARN BaseTransaction: Failed to load metadata for a committed snapshot, skipping clean-up\n"
     ]
    },
    {
     "data": {
      "text/plain": [
       "DataFrame[previous_snapshot_id: bigint, current_snapshot_id: bigint]"
      ]
     },
     "execution_count": 27,
     "metadata": {},
     "output_type": "execute_result"
    }
   ],
   "source": [
    "spark.sql(\"\"\"\n",
    "    CALL nessie.system.rollback_to_snapshot(\n",
    "        'test1',\n",
    "        4482891011596568820\n",
    "    )\n",
    "\"\"\")"
   ]
  },
  {
   "cell_type": "code",
   "execution_count": null,
   "id": "65b5071b-a7e3-4ee2-8338-ad39f7fe3365",
   "metadata": {},
   "outputs": [],
   "source": []
  }
 ],
 "metadata": {
  "kernelspec": {
   "display_name": "Python 3 (ipykernel)",
   "language": "python",
   "name": "python3"
  },
  "language_info": {
   "codemirror_mode": {
    "name": "ipython",
    "version": 3
   },
   "file_extension": ".py",
   "mimetype": "text/x-python",
   "name": "python",
   "nbconvert_exporter": "python",
   "pygments_lexer": "ipython3",
   "version": "3.9.22"
  }
 },
 "nbformat": 4,
 "nbformat_minor": 5
}
